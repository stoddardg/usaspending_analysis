{
 "cells": [
  {
   "cell_type": "markdown",
   "id": "b665cd0b",
   "metadata": {},
   "source": [
    "# City Analysis Report Data Prep\n",
    "\n",
    "This file contains the city analysis report prep data pipeline. This takes existing data from all departments and produces several useful helper tables.\n",
    "\n",
    "#### Imports and global variables"
   ]
  },
  {
   "cell_type": "code",
   "execution_count": 1,
   "id": "6eb2e409",
   "metadata": {},
   "outputs": [],
   "source": [
    "import pandas as pd\n",
    "import numpy as np\n",
    "from scipy.spatial.distance import cdist"
   ]
  },
  {
   "cell_type": "code",
   "execution_count": 2,
   "id": "ef4e1f77",
   "metadata": {},
   "outputs": [],
   "source": [
    "agencies = {\n",
    "    'Department of Labor': 'Labor',\n",
    "    'Department of Justice': 'DOJ',\n",
    "    'Department of Health and Human Services': 'HHS',\n",
    "    'Department of Housing and Urban Development': 'HUD',\n",
    "    'Department of Education': 'DOE'\n",
    "}"
   ]
  },
  {
   "cell_type": "code",
   "execution_count": 3,
   "id": "9bc18503",
   "metadata": {},
   "outputs": [],
   "source": [
    "all_data = pd.read_parquet('clean_data/clean_all_dept_all_contracts_all_cols.parquet')"
   ]
  },
  {
   "cell_type": "markdown",
   "id": "6e75de42",
   "metadata": {},
   "source": [
    "#### Basic Data Cleaning"
   ]
  },
  {
   "cell_type": "code",
   "execution_count": 4,
   "id": "2a926144",
   "metadata": {},
   "outputs": [],
   "source": [
    "all_data.program_match = all_data.program_match.fillna('other')"
   ]
  },
  {
   "cell_type": "code",
   "execution_count": 5,
   "id": "3f3f8246",
   "metadata": {},
   "outputs": [],
   "source": [
    "grants_to_exclude = [\n",
    "    'https://www.usaspending.gov/award/ASST_NON_B-21-DF-22-0001_8620/',\n",
    "    'https://www.usaspending.gov/award/ASST_NON_B-18-DP-22-0001_8620/',\n",
    "    'https://www.usaspending.gov/award/ASST_NON_B-21-DZ-22-0001_8620/',\n",
    "    'https://www.usaspending.gov/award/ASST_NON_B-22-DF-22-0001_8620/',\n",
    "]\n",
    "\n",
    "all_data = all_data[~all_data.usaspending_permalink.isin(grants_to_exclude)]"
   ]
  },
  {
   "cell_type": "code",
   "execution_count": null,
   "id": "ef6ee351",
   "metadata": {},
   "outputs": [],
   "source": [
    "all_data['city_state'] = all_data['primary_place_of_performance_city_name'] + ', ' + all_data['primary_place_of_performance_state_name']\n",
    "\n",
    "all_data['city_state'] = all_data['city_state'].apply(lambda x: str(x).title())"
   ]
  },
  {
   "cell_type": "markdown",
   "id": "578d736f",
   "metadata": {},
   "source": [
    "#### Summary Table Generation"
   ]
  },
  {
   "cell_type": "code",
   "execution_count": 6,
   "id": "80aec494",
   "metadata": {},
   "outputs": [],
   "source": [
    "# Group data by city and department, then specific grant type\n",
    "grant_summary_table = all_data.groupby(['city_state', 'awarding_agency_name', 'program_match']).agg(\n",
    "    count = ('program_match','size'),\n",
    "    count_open  = ('grant_is_open','sum'),\n",
    "    total_estimated_remaining_funds = ('estimated_remaining_funds','sum'),\n",
    "    total_obligated_funds = ('total_obligated_amount','sum')\n",
    ").reset_index()"
   ]
  },
  {
   "cell_type": "code",
   "execution_count": null,
   "id": "73b110ea",
   "metadata": {},
   "outputs": [],
   "source": [
    "# Define function to nicely format program matches, e.g. 'DOJ - Cops Hiring Program'\n",
    "def gen_new_program_match(row):\n",
    "    return f'{agencies[row.awarding_agency_name]} - {row.program_match}'"
   ]
  },
  {
   "cell_type": "code",
   "execution_count": null,
   "id": "49bd73f5",
   "metadata": {},
   "outputs": [],
   "source": [
    "# Title case and re-format program matches\n",
    "grant_summary_table.program_match = grant_summary_table.program_match.apply(lambda x: x.title())\n",
    "grant_summary_table.program_match = grant_summary_table.apply(gen_new_program_match, axis=1)"
   ]
  },
  {
   "cell_type": "code",
   "execution_count": 7,
   "id": "ab2a2892",
   "metadata": {},
   "outputs": [],
   "source": [
    "# Generate city-level summary data--both for CVI and overall grant funding.\n",
    "city_summary_table_total = all_data.groupby(['city_state']).agg(\n",
    "    total_obligated_funds = ('total_obligated_amount','sum')\n",
    ").reset_index()\n",
    "\n",
    "city_summary_table_cvi = all_data[all_data.program_match != 'other'].groupby(['city_state']).agg(\n",
    "    cvi_obligated_funds = ('total_obligated_amount','sum')\n",
    ").reset_index()\n",
    "\n",
    "city_summary_table = city_summary_table_total.merge(city_summary_table_cvi, how='left', on='city_state')"
   ]
  },
  {
   "cell_type": "markdown",
   "id": "9315658c",
   "metadata": {},
   "source": [
    "#### Import gun violence dataframe and cleaning"
   ]
  },
  {
   "cell_type": "code",
   "execution_count": 8,
   "id": "268fdb9b",
   "metadata": {},
   "outputs": [],
   "source": [
    "gun_df = pd.read_csv(\"usa_spending_contract_data/gun_data.csv\")\n",
    "\n",
    "# Subset columns\n",
    "gun_df = gun_df[[\n",
    "    'city_state',\n",
    "    'fatal_shootings',\n",
    "    'avg_popn',\n",
    "    'rate_per_100k'\n",
    "]]\n",
    "\n",
    "# Remove any NA information from our gun dataframe\n",
    "gun_df.dropna(axis=0, inplace=True)\n",
    "\n",
    "# We need to exclude some cities which don't have USA Spending matches from our gun data set.\n",
    "gun_df_cities_to_exclude = [\n",
    "    'Louisville/Jefferson County, Kentucky',\n",
    "    'Nashville-Davidson, Tennessee',\n",
    "    'Urban Honolulu CDP, Hawaii'\n",
    "]\n",
    "\n",
    "gun_df = gun_df[~gun_df.city_state.isin(gun_df_cities_to_exclude)].reset_index(drop=True)"
   ]
  },
  {
   "cell_type": "markdown",
   "id": "72231bb1",
   "metadata": {},
   "source": [
    "#### Validation: do all gun dataset cities match a city in the USA Spending data set?"
   ]
  },
  {
   "cell_type": "code",
   "execution_count": 9,
   "id": "72b637a4",
   "metadata": {},
   "outputs": [],
   "source": [
    "# Convert the city_state column in all_data to title case and get unique values\n",
    "unique_city_states = all_data['city_state'].dropna().str.title().unique()\n",
    "\n",
    "# Check if the city_state values in gun_df are in the unique_city_states list\n",
    "is_in_unique_city_states = gun_df['city_state'].str.title().isin(unique_city_states)\n",
    "\n",
    "cities_not_in_unique_city_states = gun_df.loc[~is_in_unique_city_states, 'city_state']\n",
    "\n",
    "assert len(cities_not_in_unique_city_states) == 0"
   ]
  },
  {
   "cell_type": "markdown",
   "id": "47acdce2",
   "metadata": {},
   "source": [
    "#### Produce a merged dataframe with gun data and spending data, by city, combined"
   ]
  },
  {
   "cell_type": "code",
   "execution_count": null,
   "id": "4d847eb2",
   "metadata": {},
   "outputs": [],
   "source": [
    "# Subset to just our city matches, then merge data together\n",
    "city_summary_table = city_summary_table[city_summary_table.city_state.isin(gun_df['city_state'].str.title())]\n",
    "\n",
    "merged_df = city_summary_table.merge(gun_df, how='left', on='city_state')"
   ]
  },
  {
   "cell_type": "code",
   "execution_count": 10,
   "id": "1d82d8a4",
   "metadata": {},
   "outputs": [],
   "source": [
    "# Create several useful calculated metric fields in our data set\n",
    "# This works out to be annual funding over annual homicides, so annual funding per one homicide.\n",
    "merged_df['total_funding_per_hom'] = merged_df.total_obligated_funds / merged_df.fatal_shootings\n",
    "merged_df['cvi_funding_per_hom'] = merged_df.cvi_obligated_funds / merged_df.fatal_shootings\n",
    "\n",
    "# We add in extra by-5 divisions here in order to keep annual definitions standard. We correct for 5-year funding values.\n",
    "merged_df['total_funding_per_person'] = merged_df.total_obligated_funds / merged_df.avg_popn / 5\n",
    "merged_df['cvi_funding_per_person'] = merged_df.cvi_obligated_funds / merged_df.avg_popn / 5\n",
    "\n",
    "# Change fatal shootings to be an annual value\n",
    "merged_df['fatal_shootings'] = round(merged_df['fatal_shootings'] / 5)"
   ]
  },
  {
   "cell_type": "code",
   "execution_count": null,
   "id": "0a77050a",
   "metadata": {},
   "outputs": [],
   "source": [
    "# Output to csv\n",
    "merged_df.to_csv('clean_data/city_summary_table.csv', index=False)"
   ]
  },
  {
   "cell_type": "markdown",
   "id": "dfb0c3a1",
   "metadata": {},
   "source": [
    "#### Produce a merged dataframe with gun data and spending data, by city/funding dept/grant, combined"
   ]
  },
  {
   "cell_type": "code",
   "execution_count": 11,
   "id": "52d81b13",
   "metadata": {},
   "outputs": [],
   "source": [
    "# Subset to just our city matches, then merge data together\n",
    "grant_summary_table = grant_summary_table[grant_summary_table.city_state.isin(gun_df['city_state'].str.title())]\n",
    "\n",
    "merged_df = grant_summary_table.merge(gun_df, how='left', on='city_state')"
   ]
  },
  {
   "cell_type": "code",
   "execution_count": null,
   "id": "8d38d44c",
   "metadata": {},
   "outputs": [],
   "source": [
    "# Create several useful calculated metric fields in our data set\n",
    "merged_df['funding_per_hom'] = merged_df.total_obligated_funds / merged_df.fatal_shootings\n",
    "merged_df['total_funding_per_person'] = merged_df.total_obligated_funds / merged_df.avg_popn / 5\n",
    "\n",
    "merged_df['fatal_shootings'] = round(merged_df['fatal_shootings'] / 5)"
   ]
  },
  {
   "cell_type": "code",
   "execution_count": null,
   "id": "170e9b4e",
   "metadata": {},
   "outputs": [],
   "source": [
    "# Output to csv\n",
    "merged_df.to_csv('clean_data/grant_summary_table.csv', index=False)"
   ]
  },
  {
   "cell_type": "markdown",
   "id": "4604db7e",
   "metadata": {},
   "source": [
    "#### Create new dataset for closest 5 cities by 3 metrics\n",
    "\n",
    "For ease and efficiency of computation, we will use the `scipy.spatial.distance` package for this analysis."
   ]
  },
  {
   "cell_type": "code",
   "execution_count": 13,
   "id": "0eeabae9",
   "metadata": {},
   "outputs": [],
   "source": [
    "# Function to find the 5 closest cities based on a specific column using 1-norm (Manhattan distance)\n",
    "def find_closest_cities_1norm(df, column):\n",
    "    distances = cdist(df[[column]], df[[column]], metric='cityblock')\n",
    "    np.fill_diagonal(distances, np.inf)  # To exclude the city itself from being considered\n",
    "    closest_indices = np.argsort(distances, axis=1)[:, :5]\n",
    "    closest_cities = df['city_state'].values[closest_indices]\n",
    "    return [list(cities) for cities in closest_cities]\n",
    "\n",
    "# Calculate closest 5 cities for each column\n",
    "gun_df['closest_5_fatal_shootings'] = find_closest_cities_1norm(gun_df, 'fatal_shootings')\n",
    "gun_df['closest_5_avg_popn'] = find_closest_cities_1norm(gun_df, 'avg_popn')\n",
    "gun_df['closest_5_rate_per_100k'] = find_closest_cities_1norm(gun_df, 'rate_per_100k')"
   ]
  },
  {
   "cell_type": "code",
   "execution_count": 14,
   "id": "8b4a1160",
   "metadata": {},
   "outputs": [],
   "source": [
    "# Output to pickle, to preserve the list format of columns\n",
    "gun_df.to_pickle('clean_data/gun_df_distances.pkl')"
   ]
  },
  {
   "cell_type": "code",
   "execution_count": null,
   "id": "ba64c916",
   "metadata": {},
   "outputs": [],
   "source": []
  }
 ],
 "metadata": {
  "kernelspec": {
   "display_name": "Python 3 (ipykernel)",
   "language": "python",
   "name": "python3"
  },
  "language_info": {
   "codemirror_mode": {
    "name": "ipython",
    "version": 3
   },
   "file_extension": ".py",
   "mimetype": "text/x-python",
   "name": "python",
   "nbconvert_exporter": "python",
   "pygments_lexer": "ipython3",
   "version": "3.7.1"
  }
 },
 "nbformat": 4,
 "nbformat_minor": 5
}
