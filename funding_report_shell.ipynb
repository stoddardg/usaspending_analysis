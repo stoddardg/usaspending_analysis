{
 "cells": [
  {
   "cell_type": "markdown",
   "metadata": {},
   "source": [
    "---\n",
    "title: \"Chicago\"\n",
    "toc: true\n",
    "toc-title: \"Sections\"\n",
    "execute:\n",
    "  echo: false\n",
    "format: \n",
    "  html:\n",
    "    page-layout: full\n",
    "---"
   ]
  },
  {
   "cell_type": "code",
   "execution_count": null,
   "metadata": {},
   "outputs": [],
   "source": [
    "focal_city = 'CHICAGO'\n",
    "focal_state = 'ILLINOIS'"
   ]
  },
  {
   "cell_type": "code",
   "execution_count": null,
   "metadata": {},
   "outputs": [],
   "source": [
    "import sys\n",
    "import os\n",
    "\n",
    "# Get the parent directory\n",
    "parent_dir = os.path.abspath(os.path.join(os.getcwd(), os.pardir))\n",
    "\n",
    "# Append the parent directory to the sys.path\n",
    "if parent_dir not in sys.path:\n",
    "    sys.path.append(parent_dir)\n",
    "\n",
    "from funding_report_generator import *"
   ]
  },
  {
   "cell_type": "code",
   "execution_count": null,
   "metadata": {},
   "outputs": [],
   "source": [
    "#| output: asis\n",
    "\n",
    "display(Markdown(\"\\n# Introduction\"))\n",
    "\n",
    "md_txt = f'The tables below displays grant data from USASpending.gov that may be relevant to community violence intervention for {focal_city}.'\n",
    "Markdown(md_txt)"
   ]
  },
  {
   "cell_type": "code",
   "execution_count": null,
   "metadata": {},
   "outputs": [],
   "source": [
    "#| output: asis\n",
    "df = read_data(focal_city, focal_state)\n",
    "\n",
    "display(Markdown('\\n# Overview'))\n",
    "show_summary_table(df)"
   ]
  },
  {
   "cell_type": "code",
   "execution_count": null,
   "metadata": {},
   "outputs": [],
   "source": [
    "line_item_df = prep_line_item_dta(df)\n",
    "prep_table_disp_options()"
   ]
  },
  {
   "cell_type": "code",
   "execution_count": null,
   "metadata": {},
   "outputs": [],
   "source": [
    "#| output: asis\n",
    "\n",
    "for program_nm, filter_nm in programs.items():\n",
    "    display(Markdown(f\"\\n# {program_nm}\"))\n",
    "    show_prog_df(line_item_df, filter_nm)"
   ]
  },
  {
   "cell_type": "code",
   "execution_count": null,
   "metadata": {},
   "outputs": [],
   "source": []
  }
 ],
 "metadata": {
  "kernelspec": {
   "display_name": "crime-lab",
   "language": "python",
   "name": "python3"
  },
  "language_info": {
   "codemirror_mode": {
    "name": "ipython",
    "version": 3
   },
   "file_extension": ".py",
   "mimetype": "text/x-python",
   "name": "python",
   "nbconvert_exporter": "python",
   "pygments_lexer": "ipython3",
   "version": "3.7.1"
  }
 },
 "nbformat": 4,
 "nbformat_minor": 2
}
